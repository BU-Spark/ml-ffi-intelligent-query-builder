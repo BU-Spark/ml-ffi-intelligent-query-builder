{
  "nbformat": 4,
  "nbformat_minor": 0,
  "metadata": {
    "colab": {
      "provenance": []
    },
    "kernelspec": {
      "name": "python3",
      "display_name": "Python 3"
    },
    "language_info": {
      "name": "python"
    }
  },
  "cells": [
    {
      "cell_type": "code",
      "source": [
        "import spacy\n",
        "\n",
        "!python -m spacy download en_core_web_md \n",
        "nlp = spacy.load('en_core_web_md')"
      ],
      "metadata": {
        "id": "-8i06VoRBgxe"
      },
      "execution_count": null,
      "outputs": []
    },
    {
      "cell_type": "code",
      "execution_count": 38,
      "metadata": {
        "colab": {
          "base_uri": "https://localhost:8080/"
        },
        "id": "sia-pnjpA9a6",
        "outputId": "be5a07f5-edcc-46cd-fcd8-80ac1367f3a4"
      },
      "outputs": [
        {
          "output_type": "stream",
          "name": "stdout",
          "text": [
            "[0.9167161122265037, 0.2882796925670233, 0.2884488115460303]\n",
            "The closest phrase to San Francisco is San Franciscon Prison\n",
            "[0.25586266822913484, 0.4778618905170272, 0.3883187707679175]\n",
            "The closest phrase to Animal Place is Chicago Zoo\n"
          ]
        }
      ],
      "source": [
        "from numpy.core.fromnumeric import argmax\n",
        "\n",
        "#Given a list of words/phrases, finds the phrase closest to the one in words[0]\n",
        "def ClosestSimilarity(words):\n",
        "  tokens = []\n",
        "  for word in words:\n",
        "    tokens.append(nlp(word))\n",
        "    \n",
        "  token1 = tokens[0]\n",
        "  similarities = [token1.similarity(x) for x in tokens[1:]]\n",
        "\n",
        "  return similarities, argmax(similarities)\n",
        "\n",
        "words = [\"San Francisco\", \"San Franciscon Prison\",\"Chicago Zoo\",\"Washington Museum of Arts\"]\n",
        "\n",
        "similarities, closestInd = ClosestSimilarity(words)\n",
        "print(similarities)\n",
        "print(f\"The closest phrase to {words[0]} is {words[closestInd + 1]}\")\n",
        "\n",
        "words = [\"Animal Place\",\"San Francisco Prison\",\"Chicago Zoo\",\"Washington Museum of Arts\"]\n",
        "similarities, closestInd = ClosestSimilarity(words)\n",
        "print(similarities)\n",
        "print(f\"The closest phrase to {words[0]} is {words[closestInd + 1]}\")"
      ]
    },
    {
      "cell_type": "code",
      "source": [
        "|"
      ],
      "metadata": {
        "id": "10iZ25uQBSQC"
      },
      "execution_count": null,
      "outputs": []
    }
  ]
}