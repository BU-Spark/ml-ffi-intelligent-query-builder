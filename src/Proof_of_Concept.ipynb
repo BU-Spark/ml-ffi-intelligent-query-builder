{
  "cells": [
    {
      "attachments": {},
      "cell_type": "markdown",
      "metadata": {
        "id": "fioyLOSTQ8HQ"
      },
      "source": [
        "# Proof of Concept:\n",
        "\n",
        "Breakdown:\n",
        "\n",
        "1. One must first load the dataset that our group created on Mockaroo based on the guidelines given to us by the client. This dataset models a food delivery business that has 4 tables: Driver, Customer, Orders and Customer support. Each table has various types of data spanning from strings, ints to unique ids. Tables are linked by ids as well. \n",
        "\n",
        "2. We use spacy in order to run named entity recognition; these entities will be used in step 4.\n",
        "\n",
        "3. Using the named entities and a list of unique values from the dataset, we use tensorflow embeddings and cosine similarity to find the column value most likely being referenced in the user's query. For instance, an input of San Francisco Jail would have a strong cosine similarity with the actual value from the client's column: San Francisco Penitentiary. After the correct name has been found we use regex to substitute the corrected name in place of the user input. \n",
        "\n",
        "4. Finally, we do the actual query translation from plain text. We first input the formatted query and send it to openai that has already been fed the schema for the query. We then receive the SQL query and call our own hand-crafted SQL-to-MongoDB method that converts into a final MongoDB query. \n",
        "\n",
        "### User Instructions\n",
        "\n",
        "For the code to function, you need to load the four datasets (driver_data, cust_data, order_data, cust_service_data) from the github repo into your google drive as outlined in the following cells. \n",
        "\n",
        "Our main method first asks the user for their openai key. Then we have some test cases that may contain noun spelling issues, name spelling issues, etc. "
      ]
    },
    {
      "cell_type": "code",
      "execution_count": 2,
      "metadata": {
        "colab": {
          "base_uri": "https://localhost:8080/"
        },
        "id": "GnlNMbjmb0Y1",
        "outputId": "2fd453d8-4b43-42e0-fd91-77edd6e67120"
      },
      "outputs": [
        {
          "name": "stdout",
          "output_type": "stream",
          "text": [
            "Looking in indexes: https://pypi.org/simple, https://us-python.pkg.dev/colab-wheels/public/simple/\n",
            "Collecting openai\n",
            "  Downloading openai-0.27.4-py3-none-any.whl (70 kB)\n",
            "\u001b[2K     \u001b[90m━━━━━━━━━━━━━━━━━━━━━━━━━━━━━━━━━━━━━━━━\u001b[0m \u001b[32m70.3/70.3 kB\u001b[0m \u001b[31m1.6 MB/s\u001b[0m eta \u001b[36m0:00:00\u001b[0m\n",
            "\u001b[?25hCollecting aiohttp\n",
            "  Downloading aiohttp-3.8.4-cp39-cp39-manylinux_2_17_x86_64.manylinux2014_x86_64.whl (1.0 MB)\n",
            "\u001b[2K     \u001b[90m━━━━━━━━━━━━━━━━━━━━━━━━━━━━━━━━━━━━━━━━\u001b[0m \u001b[32m1.0/1.0 MB\u001b[0m \u001b[31m13.1 MB/s\u001b[0m eta \u001b[36m0:00:00\u001b[0m\n",
            "\u001b[?25hRequirement already satisfied: requests>=2.20 in /usr/local/lib/python3.9/dist-packages (from openai) (2.27.1)\n",
            "Requirement already satisfied: tqdm in /usr/local/lib/python3.9/dist-packages (from openai) (4.65.0)\n",
            "Requirement already satisfied: idna<4,>=2.5 in /usr/local/lib/python3.9/dist-packages (from requests>=2.20->openai) (3.4)\n",
            "Requirement already satisfied: certifi>=2017.4.17 in /usr/local/lib/python3.9/dist-packages (from requests>=2.20->openai) (2022.12.7)\n",
            "Requirement already satisfied: urllib3<1.27,>=1.21.1 in /usr/local/lib/python3.9/dist-packages (from requests>=2.20->openai) (1.26.15)\n",
            "Requirement already satisfied: charset-normalizer~=2.0.0 in /usr/local/lib/python3.9/dist-packages (from requests>=2.20->openai) (2.0.12)\n",
            "Collecting frozenlist>=1.1.1\n",
            "  Downloading frozenlist-1.3.3-cp39-cp39-manylinux_2_5_x86_64.manylinux1_x86_64.manylinux_2_17_x86_64.manylinux2014_x86_64.whl (158 kB)\n",
            "\u001b[2K     \u001b[90m━━━━━━━━━━━━━━━━━━━━━━━━━━━━━━━━━━━━━━━\u001b[0m \u001b[32m158.8/158.8 kB\u001b[0m \u001b[31m5.2 MB/s\u001b[0m eta \u001b[36m0:00:00\u001b[0m\n",
            "\u001b[?25hRequirement already satisfied: attrs>=17.3.0 in /usr/local/lib/python3.9/dist-packages (from aiohttp->openai) (22.2.0)\n",
            "Collecting multidict<7.0,>=4.5\n",
            "  Downloading multidict-6.0.4-cp39-cp39-manylinux_2_17_x86_64.manylinux2014_x86_64.whl (114 kB)\n",
            "\u001b[2K     \u001b[90m━━━━━━━━━━━━━━━━━━━━━━━━━━━━━━━━━━━━━━━\u001b[0m \u001b[32m114.2/114.2 kB\u001b[0m \u001b[31m2.4 MB/s\u001b[0m eta \u001b[36m0:00:00\u001b[0m\n",
            "\u001b[?25hCollecting aiosignal>=1.1.2\n",
            "  Downloading aiosignal-1.3.1-py3-none-any.whl (7.6 kB)\n",
            "Collecting async-timeout<5.0,>=4.0.0a3\n",
            "  Downloading async_timeout-4.0.2-py3-none-any.whl (5.8 kB)\n",
            "Collecting yarl<2.0,>=1.0\n",
            "  Downloading yarl-1.8.2-cp39-cp39-manylinux_2_17_x86_64.manylinux2014_x86_64.whl (264 kB)\n",
            "\u001b[2K     \u001b[90m━━━━━━━━━━━━━━━━━━━━━━━━━━━━━━━━━━━━━━━\u001b[0m \u001b[32m264.6/264.6 kB\u001b[0m \u001b[31m5.1 MB/s\u001b[0m eta \u001b[36m0:00:00\u001b[0m\n",
            "\u001b[?25hInstalling collected packages: multidict, frozenlist, async-timeout, yarl, aiosignal, aiohttp, openai\n",
            "Successfully installed aiohttp-3.8.4 aiosignal-1.3.1 async-timeout-4.0.2 frozenlist-1.3.3 multidict-6.0.4 openai-0.27.4 yarl-1.8.2\n"
          ]
        }
      ],
      "source": [
        "pip install openai "
      ]
    },
    {
      "cell_type": "code",
      "execution_count": 3,
      "metadata": {
        "colab": {
          "base_uri": "https://localhost:8080/"
        },
        "id": "UFSPYHrB3La3",
        "outputId": "5f838001-94be-4672-bb2c-c4663553cc66"
      },
      "outputs": [
        {
          "name": "stdout",
          "output_type": "stream",
          "text": [
            "Looking in indexes: https://pypi.org/simple, https://us-python.pkg.dev/colab-wheels/public/simple/\n",
            "Collecting gradio\n",
            "  Downloading gradio-3.27.0-py3-none-any.whl (17.3 MB)\n",
            "\u001b[2K     \u001b[90m━━━━━━━━━━━━━━━━━━━━━━━━━━━━━━━━━━━━━━━━\u001b[0m \u001b[32m17.3/17.3 MB\u001b[0m \u001b[31m34.5 MB/s\u001b[0m eta \u001b[36m0:00:00\u001b[0m\n",
            "\u001b[?25hRequirement already satisfied: pillow in /usr/local/lib/python3.9/dist-packages (from gradio) (8.4.0)\n",
            "Requirement already satisfied: aiohttp in /usr/local/lib/python3.9/dist-packages (from gradio) (3.8.4)\n",
            "Collecting pydub\n",
            "  Downloading pydub-0.25.1-py2.py3-none-any.whl (32 kB)\n",
            "Requirement already satisfied: markupsafe in /usr/local/lib/python3.9/dist-packages (from gradio) (2.1.2)\n",
            "Requirement already satisfied: jinja2 in /usr/local/lib/python3.9/dist-packages (from gradio) (3.1.2)\n",
            "Requirement already satisfied: typing-extensions in /usr/local/lib/python3.9/dist-packages (from gradio) (4.5.0)\n",
            "Collecting uvicorn\n",
            "  Downloading uvicorn-0.21.1-py3-none-any.whl (57 kB)\n",
            "\u001b[2K     \u001b[90m━━━━━━━━━━━━━━━━━━━━━━━━━━━━━━━━━━━━━━━━\u001b[0m \u001b[32m57.8/57.8 kB\u001b[0m \u001b[31m2.5 MB/s\u001b[0m eta \u001b[36m0:00:00\u001b[0m\n",
            "\u001b[?25hRequirement already satisfied: pandas in /usr/local/lib/python3.9/dist-packages (from gradio) (1.5.3)\n",
            "Collecting mdit-py-plugins<=0.3.3\n",
            "  Downloading mdit_py_plugins-0.3.3-py3-none-any.whl (50 kB)\n",
            "\u001b[2K     \u001b[90m━━━━━━━━━━━━━━━━━━━━━━━━━━━━━━━━━━━━━━━━\u001b[0m \u001b[32m50.5/50.5 kB\u001b[0m \u001b[31m3.0 MB/s\u001b[0m eta \u001b[36m0:00:00\u001b[0m\n",
            "\u001b[?25hCollecting httpx\n",
            "  Downloading httpx-0.24.0-py3-none-any.whl (75 kB)\n",
            "\u001b[2K     \u001b[90m━━━━━━━━━━━━━━━━━━━━━━━━━━━━━━━━━━━━━━━━\u001b[0m \u001b[32m75.3/75.3 kB\u001b[0m \u001b[31m3.9 MB/s\u001b[0m eta \u001b[36m0:00:00\u001b[0m\n",
            "\u001b[?25hRequirement already satisfied: altair>=4.2.0 in /usr/local/lib/python3.9/dist-packages (from gradio) (4.2.2)\n",
            "Collecting semantic-version\n",
            "  Downloading semantic_version-2.10.0-py2.py3-none-any.whl (15 kB)\n",
            "Collecting aiofiles\n",
            "  Downloading aiofiles-23.1.0-py3-none-any.whl (14 kB)\n",
            "Requirement already satisfied: numpy in /usr/local/lib/python3.9/dist-packages (from gradio) (1.22.4)\n",
            "Requirement already satisfied: pyyaml in /usr/local/lib/python3.9/dist-packages (from gradio) (6.0)\n",
            "Collecting ffmpy\n",
            "  Downloading ffmpy-0.3.0.tar.gz (4.8 kB)\n",
            "  Preparing metadata (setup.py) ... \u001b[?25l\u001b[?25hdone\n",
            "Collecting websockets>=10.0\n",
            "  Downloading websockets-11.0.2-cp39-cp39-manylinux_2_5_x86_64.manylinux1_x86_64.manylinux_2_17_x86_64.manylinux2014_x86_64.whl (129 kB)\n",
            "\u001b[2K     \u001b[90m━━━━━━━━━━━━━━━━━━━━━━━━━━━━━━━━━━━━━━━\u001b[0m \u001b[32m129.7/129.7 kB\u001b[0m \u001b[31m3.0 MB/s\u001b[0m eta \u001b[36m0:00:00\u001b[0m\n",
            "\u001b[?25hCollecting gradio-client>=0.1.3\n",
            "  Downloading gradio_client-0.1.3-py3-none-any.whl (286 kB)\n",
            "\u001b[2K     \u001b[90m━━━━━━━━━━━━━━━━━━━━━━━━━━━━━━━━━━━━━━\u001b[0m \u001b[32m286.2/286.2 kB\u001b[0m \u001b[31m10.5 MB/s\u001b[0m eta \u001b[36m0:00:00\u001b[0m\n",
            "\u001b[?25hRequirement already satisfied: requests in /usr/local/lib/python3.9/dist-packages (from gradio) (2.27.1)\n",
            "Requirement already satisfied: matplotlib in /usr/local/lib/python3.9/dist-packages (from gradio) (3.7.1)\n",
            "Collecting orjson\n",
            "  Downloading orjson-3.8.10-cp39-cp39-manylinux_2_28_x86_64.whl (140 kB)\n",
            "\u001b[2K     \u001b[90m━━━━━━━━━━━━━━━━━━━━━━━━━━━━━━━━━━━━━━━\u001b[0m \u001b[32m140.5/140.5 kB\u001b[0m \u001b[31m4.4 MB/s\u001b[0m eta \u001b[36m0:00:00\u001b[0m\n",
            "\u001b[?25hCollecting huggingface-hub>=0.13.0\n",
            "  Downloading huggingface_hub-0.13.4-py3-none-any.whl (200 kB)\n",
            "\u001b[2K     \u001b[90m━━━━━━━━━━━━━━━━━━━━━━━━━━━━━━━━━━━━━━━\u001b[0m \u001b[32m200.1/200.1 kB\u001b[0m \u001b[31m8.3 MB/s\u001b[0m eta \u001b[36m0:00:00\u001b[0m\n",
            "\u001b[?25hCollecting fastapi\n",
            "  Downloading fastapi-0.95.1-py3-none-any.whl (56 kB)\n",
            "\u001b[2K     \u001b[90m━━━━━━━━━━━━━━━━━━━━━━━━━━━━━━━━━━━━━━━\u001b[0m \u001b[32m57.0/57.0 kB\u001b[0m \u001b[31m427.1 kB/s\u001b[0m eta \u001b[36m0:00:00\u001b[0m\n",
            "\u001b[?25hRequirement already satisfied: markdown-it-py[linkify]>=2.0.0 in /usr/local/lib/python3.9/dist-packages (from gradio) (2.2.0)\n",
            "Requirement already satisfied: pydantic in /usr/local/lib/python3.9/dist-packages (from gradio) (1.10.7)\n",
            "Collecting python-multipart\n",
            "  Downloading python_multipart-0.0.6-py3-none-any.whl (45 kB)\n",
            "\u001b[2K     \u001b[90m━━━━━━━━━━━━━━━━━━━━━━━━━━━━━━━━━━━━━━━━\u001b[0m \u001b[32m45.7/45.7 kB\u001b[0m \u001b[31m1.5 MB/s\u001b[0m eta \u001b[36m0:00:00\u001b[0m\n",
            "\u001b[?25hRequirement already satisfied: toolz in /usr/local/lib/python3.9/dist-packages (from altair>=4.2.0->gradio) (0.12.0)\n",
            "Requirement already satisfied: jsonschema>=3.0 in /usr/local/lib/python3.9/dist-packages (from altair>=4.2.0->gradio) (4.3.3)\n",
            "Requirement already satisfied: entrypoints in /usr/local/lib/python3.9/dist-packages (from altair>=4.2.0->gradio) (0.4)\n",
            "Requirement already satisfied: packaging in /usr/local/lib/python3.9/dist-packages (from gradio-client>=0.1.3->gradio) (23.0)\n",
            "Requirement already satisfied: fsspec in /usr/local/lib/python3.9/dist-packages (from gradio-client>=0.1.3->gradio) (2023.4.0)\n",
            "Requirement already satisfied: tqdm>=4.42.1 in /usr/local/lib/python3.9/dist-packages (from huggingface-hub>=0.13.0->gradio) (4.65.0)\n",
            "Requirement already satisfied: filelock in /usr/local/lib/python3.9/dist-packages (from huggingface-hub>=0.13.0->gradio) (3.11.0)\n",
            "Requirement already satisfied: mdurl~=0.1 in /usr/local/lib/python3.9/dist-packages (from markdown-it-py[linkify]>=2.0.0->gradio) (0.1.2)\n",
            "Collecting linkify-it-py<3,>=1\n",
            "  Downloading linkify_it_py-2.0.0-py3-none-any.whl (19 kB)\n",
            "Requirement already satisfied: pytz>=2020.1 in /usr/local/lib/python3.9/dist-packages (from pandas->gradio) (2022.7.1)\n",
            "Requirement already satisfied: python-dateutil>=2.8.1 in /usr/local/lib/python3.9/dist-packages (from pandas->gradio) (2.8.2)\n",
            "Requirement already satisfied: multidict<7.0,>=4.5 in /usr/local/lib/python3.9/dist-packages (from aiohttp->gradio) (6.0.4)\n",
            "Requirement already satisfied: frozenlist>=1.1.1 in /usr/local/lib/python3.9/dist-packages (from aiohttp->gradio) (1.3.3)\n",
            "Requirement already satisfied: charset-normalizer<4.0,>=2.0 in /usr/local/lib/python3.9/dist-packages (from aiohttp->gradio) (2.0.12)\n",
            "Requirement already satisfied: yarl<2.0,>=1.0 in /usr/local/lib/python3.9/dist-packages (from aiohttp->gradio) (1.8.2)\n",
            "Requirement already satisfied: aiosignal>=1.1.2 in /usr/local/lib/python3.9/dist-packages (from aiohttp->gradio) (1.3.1)\n",
            "Requirement already satisfied: async-timeout<5.0,>=4.0.0a3 in /usr/local/lib/python3.9/dist-packages (from aiohttp->gradio) (4.0.2)\n",
            "Requirement already satisfied: attrs>=17.3.0 in /usr/local/lib/python3.9/dist-packages (from aiohttp->gradio) (22.2.0)\n",
            "Collecting starlette<0.27.0,>=0.26.1\n",
            "  Downloading starlette-0.26.1-py3-none-any.whl (66 kB)\n",
            "\u001b[2K     \u001b[90m━━━━━━━━━━━━━━━━━━━━━━━━━━━━━━━━━━━━━━━━\u001b[0m \u001b[32m66.9/66.9 kB\u001b[0m \u001b[31m6.8 MB/s\u001b[0m eta \u001b[36m0:00:00\u001b[0m\n",
            "\u001b[?25hRequirement already satisfied: idna in /usr/local/lib/python3.9/dist-packages (from httpx->gradio) (3.4)\n",
            "Requirement already satisfied: sniffio in /usr/local/lib/python3.9/dist-packages (from httpx->gradio) (1.3.0)\n",
            "Collecting httpcore<0.18.0,>=0.15.0\n",
            "  Downloading httpcore-0.17.0-py3-none-any.whl (70 kB)\n",
            "\u001b[2K     \u001b[90m━━━━━━━━━━━━━━━━━━━━━━━━━━━━━━━━━━━━━━━━\u001b[0m \u001b[32m70.6/70.6 kB\u001b[0m \u001b[31m5.9 MB/s\u001b[0m eta \u001b[36m0:00:00\u001b[0m\n",
            "\u001b[?25hRequirement already satisfied: certifi in /usr/local/lib/python3.9/dist-packages (from httpx->gradio) (2022.12.7)\n",
            "Requirement already satisfied: fonttools>=4.22.0 in /usr/local/lib/python3.9/dist-packages (from matplotlib->gradio) (4.39.3)\n",
            "Requirement already satisfied: contourpy>=1.0.1 in /usr/local/lib/python3.9/dist-packages (from matplotlib->gradio) (1.0.7)\n",
            "Requirement already satisfied: importlib-resources>=3.2.0 in /usr/local/lib/python3.9/dist-packages (from matplotlib->gradio) (5.12.0)\n",
            "Requirement already satisfied: cycler>=0.10 in /usr/local/lib/python3.9/dist-packages (from matplotlib->gradio) (0.11.0)\n",
            "Requirement already satisfied: kiwisolver>=1.0.1 in /usr/local/lib/python3.9/dist-packages (from matplotlib->gradio) (1.4.4)\n",
            "Requirement already satisfied: pyparsing>=2.3.1 in /usr/local/lib/python3.9/dist-packages (from matplotlib->gradio) (3.0.9)\n",
            "Requirement already satisfied: urllib3<1.27,>=1.21.1 in /usr/local/lib/python3.9/dist-packages (from requests->gradio) (1.26.15)\n",
            "Collecting h11>=0.8\n",
            "  Downloading h11-0.14.0-py3-none-any.whl (58 kB)\n",
            "\u001b[2K     \u001b[90m━━━━━━━━━━━━━━━━━━━━━━━━━━━━━━━━━━━━━━━━\u001b[0m \u001b[32m58.3/58.3 kB\u001b[0m \u001b[31m3.9 MB/s\u001b[0m eta \u001b[36m0:00:00\u001b[0m\n",
            "\u001b[?25hRequirement already satisfied: click>=7.0 in /usr/local/lib/python3.9/dist-packages (from uvicorn->gradio) (8.1.3)\n",
            "Requirement already satisfied: anyio<5.0,>=3.0 in /usr/local/lib/python3.9/dist-packages (from httpcore<0.18.0,>=0.15.0->httpx->gradio) (3.6.2)\n",
            "Requirement already satisfied: zipp>=3.1.0 in /usr/local/lib/python3.9/dist-packages (from importlib-resources>=3.2.0->matplotlib->gradio) (3.15.0)\n",
            "Requirement already satisfied: pyrsistent!=0.17.0,!=0.17.1,!=0.17.2,>=0.14.0 in /usr/local/lib/python3.9/dist-packages (from jsonschema>=3.0->altair>=4.2.0->gradio) (0.19.3)\n",
            "Collecting uc-micro-py\n",
            "  Downloading uc_micro_py-1.0.1-py3-none-any.whl (6.2 kB)\n",
            "Requirement already satisfied: six>=1.5 in /usr/local/lib/python3.9/dist-packages (from python-dateutil>=2.8.1->pandas->gradio) (1.16.0)\n",
            "Building wheels for collected packages: ffmpy\n",
            "  Building wheel for ffmpy (setup.py) ... \u001b[?25l\u001b[?25hdone\n",
            "  Created wheel for ffmpy: filename=ffmpy-0.3.0-py3-none-any.whl size=4707 sha256=51da4a2ffe2638e8867aea516f8f6aa1b71736f1df1c147524ef72704ee6ea12\n",
            "  Stored in directory: /root/.cache/pip/wheels/91/e2/96/f676aa08bfd789328c6576cd0f1fde4a3d686703bb0c247697\n",
            "Successfully built ffmpy\n",
            "Installing collected packages: pydub, ffmpy, websockets, uc-micro-py, semantic-version, python-multipart, orjson, h11, aiofiles, uvicorn, starlette, mdit-py-plugins, linkify-it-py, huggingface-hub, httpcore, httpx, fastapi, gradio-client, gradio\n",
            "Successfully installed aiofiles-23.1.0 fastapi-0.95.1 ffmpy-0.3.0 gradio-3.27.0 gradio-client-0.1.3 h11-0.14.0 httpcore-0.17.0 httpx-0.24.0 huggingface-hub-0.13.4 linkify-it-py-2.0.0 mdit-py-plugins-0.3.3 orjson-3.8.10 pydub-0.25.1 python-multipart-0.0.6 semantic-version-2.10.0 starlette-0.26.1 uc-micro-py-1.0.1 uvicorn-0.21.1 websockets-11.0.2\n"
          ]
        }
      ],
      "source": [
        "pip install gradio"
      ]
    },
    {
      "cell_type": "code",
      "execution_count": 4,
      "metadata": {
        "id": "LefHUVN-uGGZ"
      },
      "outputs": [],
      "source": [
        "#imports\n",
        "import pandas as pd\n",
        "from google.colab import drive\n",
        "import spacy\n",
        "import tensorflow_hub as hub\n",
        "from scipy.spatial import distance\n",
        "from numpy.core.fromnumeric import argmax\n",
        "import os\n",
        "import openai\n",
        "import re\n",
        "import gradio as gr"
      ]
    },
    {
      "cell_type": "markdown",
      "metadata": {
        "id": "woAJT52tAe0-"
      },
      "source": [
        "# Loading Mockaroo dataset from drive"
      ]
    },
    {
      "cell_type": "code",
      "execution_count": 5,
      "metadata": {
        "colab": {
          "base_uri": "https://localhost:8080/"
        },
        "id": "Wwh-m67EBxy4",
        "outputId": "ef86bfb7-22ed-405a-96d6-b33db2a383dc"
      },
      "outputs": [
        {
          "name": "stdout",
          "output_type": "stream",
          "text": [
            "Mounted at /content/drive\n"
          ]
        }
      ],
      "source": [
        "drive.mount('/content/drive')"
      ]
    },
    {
      "cell_type": "markdown",
      "metadata": {
        "id": "ZI0ZEn-WVR4_"
      },
      "source": [
        "### **Attention**: Upload all four datasets into your MyDrive directory in google drive"
      ]
    },
    {
      "cell_type": "code",
      "execution_count": 6,
      "metadata": {
        "id": "CxBU911_AZqe"
      },
      "outputs": [],
      "source": [
        "driver = pd.read_csv('/content/drive/MyDrive/driver_data.csv')\n",
        "customer = pd.read_csv('/content/drive/MyDrive/customer_data.csv')\n",
        "order = pd.read_csv('/content/drive/MyDrive/order_data.csv')\n",
        "service = pd.read_csv('/content/drive/MyDrive/cust_service_data.csv')"
      ]
    },
    {
      "cell_type": "markdown",
      "metadata": {
        "id": "6cdbmGmsScOa"
      },
      "source": [
        "# Entity Extraction"
      ]
    },
    {
      "cell_type": "code",
      "execution_count": 8,
      "metadata": {
        "id": "Wj52Y8aftNuz"
      },
      "outputs": [],
      "source": [
        "# extract entities, label, label definition from natural language questions and append to dataframe\n",
        "nlp = spacy.load(\"en_core_web_sm\")\n",
        "def EntityExtraction(text:str):\n",
        "  # print(text)\n",
        "  entities = []\n",
        "  entities_label = []\n",
        "  label_explanation = {}\n",
        "  doc = nlp(text)\n",
        "  for entity in doc.ents:\n",
        "    entities.append(entity.text)\n",
        "    entities_label.append(entity.label_)\n",
        "    label_explanation[entity.label_] = spacy.explain(entity.label_)\n",
        "  return entities, entities_label\n",
        "  "
      ]
    },
    {
      "cell_type": "markdown",
      "metadata": {
        "id": "gvXONlYmt9Mj"
      },
      "source": [
        "# Column Cosine Similarity"
      ]
    },
    {
      "cell_type": "code",
      "execution_count": 9,
      "metadata": {
        "id": "5QCUUCbZUc0e"
      },
      "outputs": [],
      "source": [
        "#creating a dictionary of unique values in the dataset\n",
        "#Used for cosine similarity\n",
        "unique_values = {}\n",
        "\n",
        "for column in driver:\n",
        "    unique_values[column] = driver[column].unique()\n",
        "\n",
        "for column in customer:\n",
        "    unique_values[column] = customer[column].unique()\n",
        "\n",
        "for column in order:\n",
        "    if column in ['cust_id', 'driver_id']:\n",
        "        unique_values[column] = order[column].unique()\n",
        "\n",
        "unique_values['sales_id'] = service['sales_id'].unique()"
      ]
    },
    {
      "cell_type": "code",
      "execution_count": 10,
      "metadata": {
        "id": "_SjRF0sq_qcM"
      },
      "outputs": [],
      "source": [
        "embed = hub.load(\"https://tfhub.dev/google/universal-sentence-encoder/4\")\n",
        "\n",
        "# Uses TF word embeddings to find the word/phrase in words[1:] most related\n",
        "# to words[0] \n",
        "def ClosestSimilarity(words):\n",
        "  embeddings = embed(words)\n",
        "\n",
        "  similarities = [1 - distance.cosine(embeddings[0],x) for x in embeddings[1:]]\n",
        "\n",
        "  return max(similarities), argmax(similarities)"
      ]
    },
    {
      "cell_type": "code",
      "execution_count": 11,
      "metadata": {
        "id": "Vy360QncFEJz"
      },
      "outputs": [],
      "source": [
        "#Using ClosestSimilarity(), find the word in unique_values closest to item. \n",
        "# Also finds the column in the database it came from.\n",
        "def find_column(item, array = unique_values):\n",
        "\n",
        "    best_similarity = 0\n",
        "    best_item = None\n",
        "    best_key = None\n",
        "\n",
        "    for key in array:\n",
        "        values = [str(x) for x in unique_values[key]]\n",
        "        values = [item] + values\n",
        "        max_similarity, item_similar = ClosestSimilarity(values)\n",
        "        if not best_similarity or max_similarity > best_similarity:\n",
        "\n",
        "            best_similarity = max_similarity\n",
        "            best_item = unique_values[key][item_similar]\n",
        "            best_key = key\n",
        "\n",
        "    if best_similarity < 0.2:\n",
        "\n",
        "        return best_key, item\n",
        "    return best_key, best_item\n",
        "\n"
      ]
    },
    {
      "cell_type": "markdown",
      "metadata": {
        "id": "wrxm-2vLpmUd"
      },
      "source": [
        "# Query to SQL to MongoDB"
      ]
    },
    {
      "cell_type": "code",
      "execution_count": 12,
      "metadata": {
        "id": "3wIZlmK5pzkB"
      },
      "outputs": [],
      "source": [
        "def query_to_SQL_to_MongoDB(query, key, organization):\n",
        "\n",
        "    \n",
        "    openai.api_key = key # put in the unique key\n",
        "    openai.organization = organization # sets the specific parameters of the openai var\n",
        "\n",
        "    response = openai.Completion.create( # use the appropriate SQL model and set the parameters accordingly \n",
        "        model=\"text-davinci-003\",\n",
        "        prompt=\"### Postgres SQL tables, with their properties:\\n#\\n# Customer_Support(sales_id, order_id, date)\\n# Driver(driver_id, driver_name, driver_address, driver_experience)\\n# Customer(cust_id, cust_name, cust_address)\\n# Orders(order_id, cust_id, driver_id, date, amount)\\n#\\n### A query to \" + query + \".\\nSELECT\",\n",
        "        temperature=0,\n",
        "        max_tokens=150,\n",
        "        top_p=1.0,\n",
        "        frequency_penalty=0.0,\n",
        "        presence_penalty=0.0,\n",
        "        stop=[\"#\", \";\"]\n",
        "    )\n",
        "\n",
        "    SQL = response['choices'][0]['text'] # extract the outputted SQL Query\n",
        "    return complex_SQL_to_MongoDB(SQL)\n"
      ]
    },
    {
      "cell_type": "code",
      "execution_count": 33,
      "metadata": {
        "id": "W7OJXzulgaAq"
      },
      "outputs": [],
      "source": [
        "def complex_SQL_to_MongoDB(query):\n",
        "\n",
        "    keywords = {'INNER', 'FROM', 'WHERE', 'GROUP', 'BY', 'ON', 'SELECT', 'BETWEEN', 'LIMIT', 'AND', 'ORDER'} # keyword set used by my MongoDB function\n",
        "    mapper = {} # maps SQL symbols to MongoDB functions\n",
        "    mapper['<'] = '$lt'\n",
        "    mapper['>'] = '$gt'\n",
        "    mapper['!='] = '$ne'\n",
        "\n",
        "    query = re.split(r' |\\n', query) # split the query on spaces and turn in to array\n",
        "    query = [ x for x in query if len(x) > 0] # remove empty strings in the array\n",
        "\n",
        "    while query[0][:3] not in ['MAX', 'MIN'] and query[0][:5] != 'COUNT' and query[0] not in keywords:\n",
        "\n",
        "        query = query[1:]\n",
        "\n",
        "    if query[1] == 'AS':\n",
        "\n",
        "        rename = query[2]\n",
        "        \n",
        "        for i in range(3, len(query)):\n",
        "\n",
        "            if query[i] == rename:\n",
        "\n",
        "                query[i] = query[0]\n",
        "\n",
        "    if len(query[0]) > 3 and (query[0][:3] == 'MAX' or query[0][:3] == 'MIN'): # if the SQL contains a MAX or MIN select then we rewrite the SQL query in an easier format\n",
        "        \n",
        "        query += ['ORDER', 'BY', query[0][4:-1], 'DESC' if query[0][:3] == 'MAX' else 'ASC', 'LIMIT', '1']\n",
        "\n",
        "    count_str = '' # builds a MongoDB statement if there is a count in the select statement\n",
        "\n",
        "    if len(query[0]) > 5 and query[0][:5] == 'COUNT': # if there is indeed a count\n",
        "\n",
        "        count_str += ' {$count : ' # construct the count sequence\n",
        "        if query[0][6] == '*':\n",
        "\n",
        "            count_str += '{} }' # an asterisk means everything\n",
        "\n",
        "        else:\n",
        "\n",
        "            count_str += query[0][6:-1] + ' }' # otherwise write the actual field it wants\n",
        "\n",
        "    count_str += ','\n",
        "    i = 0 # iterator variable\n",
        "    while query[i] != 'FROM': # as long as we are still in the select continue because you cannot do select in db.Aggregate\n",
        "\n",
        "        i += 1\n",
        "\n",
        "    i = i +1 # ignore the FROM\n",
        "    collection = query[i] # table from which the information will be taken\n",
        "    i = i + 1\n",
        "    if i < len(query) and query[i] not in keywords: # sometimes SQL queries rename tables but we ignore that in MongoDB\n",
        "\n",
        "        i += 1\n",
        "    answer = 'db.' + collection + \".aggregate( \" # MongoDB function for aggregation\n",
        "\n",
        "    while i < len(query) and query[i] == 'INNER': # if there is an inner join\n",
        "\n",
        "        i = i + 2 # ignore the keywords\n",
        "        lookup = '{$lookup: { from : \"' # MongoDB structure\n",
        "        lookup += query[i] + '\", localField: \"' # specifies home key\n",
        "        if query[i+1] not in keywords: # skip renaming of tables\n",
        "            i += 1\n",
        "        i = i + 2\n",
        "        lookup += query[i].split('.')[1] + '\", foreignField: \"' # specifies foreign key\n",
        "        i = i+2 \n",
        "        lookup += query[i].split('.')[1] + '\", as: \"' + collection + '\"} },' # rename final table to the original table\n",
        "        i = i + 1\n",
        "        answer += lookup # add this to the MongoDB query\n",
        "\n",
        "\n",
        "    if i < len(query) and query[i] == 'WHERE': # if there is a WHERE clause\n",
        "\n",
        "        where = '{$match:' # MongoB keyword\n",
        "        count = 0 # tells us if there is an AND in the where clause\n",
        "        conditions = '' # stores the actual conditions required\n",
        "\n",
        "        while i < len(query) and (query[i] == 'WHERE' or query[i] == 'AND'):\n",
        "\n",
        "            count += 1 # add one every time you find a where matching\n",
        "            i = i+1 \n",
        "            conditions += '{' + (query[i].split('.')[1] if len(query[i].split('.')) > 1 else query[i] )  + \" : \" # format to MongoDB\n",
        "            if query[i+1] == '=': # if there is an equality then use a colon\n",
        "\n",
        "                conditions += query[i+2] \n",
        "                i = i + 3\n",
        "\n",
        "            elif query[i+1] == 'BETWEEN': # if there are dates then use the specified date format\n",
        "\n",
        "                conditions += '{$gt: ISODate(' + query[i+2] + '), $lt: ISODate(' + query[i+4] + ')}'\n",
        "                i+= 5\n",
        "                \n",
        "            else: # else use the mapper function to map the write symbol here\n",
        "                \n",
        "                conditions += '{ ' + mapper[query[i+1]] + ' : ' + query[i+2] + ' }'\n",
        "                i = i+3\n",
        "\n",
        "            conditions += '},' # end the conditions\n",
        "\n",
        "        if count > 1: # if you have been in there for more than once then \n",
        "\n",
        "            where += '{ $and: [' + conditions[:-1] + ']}}' # use the AND version of MongoDB\n",
        "\n",
        "        else:\n",
        "            \n",
        "            where += conditions[:-1] + '},' # otherwise end the clause\n",
        "\n",
        "        answer += where # add this to the final query\n",
        "\n",
        "\n",
        "    if i < len(query) and (query[i] == 'GROUP' or query[i] == 'ORDER'): # if there is a Group BY or Order BY\n",
        "\n",
        "        i = i + 2\n",
        "        group = '{$group: { _id: \"' + query[i] + '\"' # in any case, you use group in MongoDB\n",
        "        i += 1\n",
        "        i -= 3 if query[i -3 ] == 'ORDER' else 0 # depending on which one you continue\n",
        "        if i < len(query) and query[i] == 'ORDER' and len(query[i+2]) > 5 and query[i+2][0:5] == 'COUNT': # if there is an order by with count\n",
        "             \n",
        "            group += ', count: {$count: ' + ('{}' if query[i+2].split('(')[1][:-1] == '*' else ('{' + query[i+2].split('(')[1][:-1].split('.')[1] + '}') ) + '} }}, { $sort: {count : ' + ('1' if query[i+3] == 'ASC' else '-1') + '}},'\n",
        "             \n",
        "        elif i < len(query) and query[i] == 'ORDER': # if there is an order by without count\n",
        "\n",
        "            group += '} }, { $sort: {' + query[i+2] + ' : ' + ('1' if query[i+3] == 'ASC' else '-1') + '}},'\n",
        "\n",
        "        else:group += '} },' # if there is no orde by and only group\n",
        "\n",
        "        i += 4\n",
        "\n",
        "        answer += group # add answer to group\n",
        "\n",
        "    if i < len(query) and query[i] == 'LIMIT': # if there is a limit then add that too\n",
        "\n",
        "        answer += '{ $limit : ' + query[i+1] + ' },'\n",
        "\n",
        "    answer += '' if count_str == ',' else count_str# finally add back any count command\n",
        "    answer = answer[:-1]\n",
        "    answer += ')' # end the whole query\n",
        "\n",
        "    return answer # return\n"
      ]
    },
    {
      "cell_type": "markdown",
      "metadata": {
        "id": "0CKB-UAxSY-6"
      },
      "source": [
        "# Main method"
      ]
    },
    {
      "cell_type": "code",
      "execution_count": 21,
      "metadata": {
        "id": "cBhir694NGne"
      },
      "outputs": [],
      "source": [
        "def query_creator(key, organization, plain_query):\n",
        "  # find named entities in text, e.g. names, addresses, etc.\n",
        "  entities, entities_label = EntityExtraction(plain_query)\n",
        "  modified_query = plain_query\n",
        "  \n",
        "  #print(entities)\n",
        "  #print(entities_label)\n",
        "  #For each named entity in the query\n",
        "  for i in range(len(entities)):\n",
        "\n",
        "    if entities_label[i] in ['ORDINAL', 'CARDINAL', 'DATE']:\n",
        "        continue\n",
        "    #Use cosine similarity on each entity to find closest matching string from tables.\n",
        "    col, best_match = find_column(entities[i])\n",
        "    #substitute table string in place of partial match found in previous step\n",
        "    modified_query = re.sub(entities[i],best_match,modified_query)\n",
        "\n",
        "  print(\"Modified input: \", modified_query)\n",
        "  #Convert adjusted plain text query to SQL, then MongoDB\n",
        "  MongoDB_query = query_to_SQL_to_MongoDB(modified_query, key, organization)\n",
        "  return MongoDB_query\n",
        "\n",
        "\n",
        "\n"
      ]
    },
    {
      "cell_type": "markdown",
      "metadata": {
        "id": "JmQkypiYufuK"
      },
      "source": [
        "#Testers of query creator"
      ]
    },
    {
      "cell_type": "code",
      "execution_count": 22,
      "metadata": {
        "id": "v_74pcce1fF0"
      },
      "outputs": [],
      "source": [
        "tests = [\"giv me number of orders from the driver elizbeth\", \"name of driver with maximum ordres\", \"first two orders with the highest order amount\", \"address of customer with lowest ordr amount\",\\\n",
        "           \"id of customer with most complints\", \"date of customer support with sales id 21695-828\", \"number of drivers with order amount 20\", \"numbser of orders by customer martha\", \"order amount of most recent customer support\",\\\n",
        "           \"order id of the order on last christmas with amount greater than 100\"]"
      ]
    },
    {
      "cell_type": "code",
      "execution_count": 29,
      "metadata": {
        "colab": {
          "base_uri": "https://localhost:8080/"
        },
        "id": "_tM2_6kG1g4u",
        "outputId": "a61853a5-9f69-48c2-900a-213f313a2d04"
      },
      "outputs": [
        {
          "name": "stdout",
          "output_type": "stream",
          "text": [
            "Modified input:  give me number of orders from the driver Elizabeth\n",
            "['COUNT(*)', 'FROM', 'Orders', 'INNER', 'JOIN', 'Driver', 'ON', 'Orders.driver_id', '=', 'Driver.driver_id', 'WHERE', 'Driver.driver_name', '=', \"'Elizabeth'\"]\n",
            "Driver.driver_name\n",
            "db.Orders.aggregate( {$lookup: { from : \"Driver\", localField: \"driver_id\", foreignField: \"driver_id\", as: \"Orders\"} },{$match:{driver_name : 'Elizabeth'}},  {$count : {} })\n",
            "Modified input:  name of driver with maximum orders\n",
            "['driver_name', 'FROM', 'Driver', 'INNER', 'JOIN', 'Orders', 'ON', 'Driver.driver_id', '=', 'Orders.driver_id', 'GROUP', 'BY', 'driver_name', 'ORDER', 'BY', 'COUNT(*)', 'DESC', 'LIMIT', '1']\n",
            "db.Driver.aggregate( {$lookup: { from : \"Orders\", localField: \"driver_id\", foreignField: \"driver_id\", as: \"Driver\"} },{$group: { _id: \"driver_name\", count: {$count: {}} }}, { $sort: {count : -1}}, { $limit : 1 }, )\n",
            "Modified input:  first two orders with the highest order amount\n",
            "['order_id,', 'amount', 'FROM', 'Orders', 'ORDER', 'BY', 'amount', 'DESC', 'LIMIT', '2']\n",
            "db.Orders.aggregate( {$group: { _id: \"amount\"} }, { $sort: {amount : -1}},{ $limit : 2 }, )\n",
            "Modified input:  address of customer with lowest order amount\n",
            "['cust_name,', 'cust_address', 'FROM', 'Customer', 'INNER', 'JOIN', 'Orders', 'ON', 'Customer.cust_id', '=', 'Orders.cust_id', 'ORDER', 'BY', 'amount', 'ASC', 'LIMIT', '1']\n",
            "db.Customer.aggregate( {$lookup: { from : \"Orders\", localField: \"cust_id\", foreignField: \"cust_id\", as: \"Customer\"} },{$group: { _id: \"amount\"} }, { $sort: {amount : 1}},{ $limit : 1 }, )\n",
            "Modified input:  id of customer with most complaints\n",
            "['cust_id', 'FROM', 'Customer_Support', 'GROUP', 'BY', 'cust_id', 'ORDER', 'BY', 'COUNT(*)', 'DESC', 'LIMIT', '1']\n",
            "db.Customer_Support.aggregate( {$group: { _id: \"cust_id\", count: {$count: {}} }}, { $sort: {count : -1}}, { $limit : 1 }, )\n",
            "Modified input:  date of customer support with sales id 21695-828\n",
            "['date', 'FROM', 'Customer_Support', 'WHERE', 'sales_id', '=', \"'21695-828'\"]\n",
            "sales_id\n",
            "db.Customer_Support.aggregate( {$match:{sales_id : '21695-828'}}, )\n",
            "Modified input:  number of drivers with order amount 20\n",
            "['COUNT(*)', 'FROM', 'Driver', 'INNER', 'JOIN', 'Orders', 'ON', 'Driver.driver_id', '=', 'Orders.driver_id', 'WHERE', 'Orders.amount', '=', '20']\n",
            "Orders.amount\n",
            "db.Driver.aggregate( {$lookup: { from : \"Orders\", localField: \"driver_id\", foreignField: \"driver_id\", as: \"Driver\"} },{$match:{amount : 20}},  {$count : {} })\n",
            "Modified input:  number of orders by customer Marthe\n",
            "['COUNT(*)', 'FROM', 'Orders', 'INNER', 'JOIN', 'Customer', 'ON', 'Orders.cust_id', '=', 'Customer.cust_id', 'WHERE', 'Customer.cust_name', '=', \"'Marthe'\"]\n",
            "Customer.cust_name\n",
            "db.Orders.aggregate( {$lookup: { from : \"Customer\", localField: \"cust_id\", foreignField: \"cust_id\", as: \"Orders\"} },{$match:{cust_name : 'Marthe'}},  {$count : {} })\n",
            "Modified input:  order amount of most recent customer support\n",
            "['order_id,', 'amount', 'FROM', 'Orders', 'ORDER', 'BY', 'date', 'DESC', 'LIMIT', '1']\n",
            "db.Orders.aggregate( {$group: { _id: \"date\"} }, { $sort: {date : -1}},{ $limit : 1 }, )\n",
            "Modified input:  amount of the highest order by customer Federica\n",
            "['MAX(amount)', 'FROM', 'Orders', 'WHERE', 'cust_name', '=', \"'Federica'\", 'ORDER', 'BY', 'amount', 'DESC', 'LIMIT', '1']\n",
            "cust_name\n",
            "db.Orders.aggregate( {$match:{cust_name : 'Federica'}}, {$group: { _id: \"amount\"} }, { $sort: {amount : -1}},{ $limit : 1 }, )\n"
          ]
        }
      ],
      "source": [
        "for test in tests:\n",
        "\n",
        "    print(query_creator(api_key, org_key, test)) # put in your api and org keys to use the tester"
      ]
    },
    {
      "cell_type": "code",
      "execution_count": null,
      "metadata": {},
      "outputs": [],
      "source": [
        "'''\n",
        "Expected Answers:\n",
        "\n",
        "db.Orders.aggregate( {$lookup: { from : \"Driver\", localField: \"driver_id\", foreignField: \"driver_id\", as: \"Orders\"} },{$match:{driver_name : 'Elizabeth'}},  {$count : {}})\n",
        "db.Driver.aggregate( {$lookup: { from : \"Orders\", localField: \"driver_id\", foreignField: \"driver_id\", as: \"Driver\"} },{$group: { _id: \"driver_name\", count: {$count: {}}}}, {$sort: {count : -1}}, { $limit : 1 })\n",
        "db.Orders.aggregate( {$group: { _id: \"amount\"} }, { $sort: {amount : -1}},{ $limit : 2 })\n",
        "db.Customer.aggregate( {$lookup: { from : \"Orders\", localField: \"cust_id\", foreignField: \"cust_id\", as: \"Customer\"} },{$group: { _id: \"amount\"} }, { $sort: {amount : 1}},{ $limit : 1 })\n",
        "db.Customer_Support.aggregate( {$group: { _id: \"cust_id\", count: {$count: {}} }}, { $sort: {count : -1}},{ $limit : 1 }) --- Computer query has redundancy but not inaccuracy\n",
        "db.Customer_Support.aggregate( {$match:{sales_id : '21695-828'}})\n",
        "db.Driver.aggregate( {$lookup: { from : \"Orders\", localField: \"driver_id\", foreignField: \"driver_id\", as: \"Driver\"}},{$match:{amount : 20}}, {$count : {}})\n",
        "db.Orders.aggregate( {$lookup: { from : \"Customer\", localField: \"cust_id\", foreignField: \"cust_id\", as: \"Orders\"} },{$match:{cust_name : 'Marthe'}}, {$count : {} })\n",
        "db.Orders.aggregate( {$group: { _id: \"date\"} }, { $sort: {date : -1}},{ $limit : 1 })\n",
        "db.Orders.aggregate( {$match:{ $and: [{date : '12/25/2021'},{amount : { $gt : 100 }}]}) --- The computer thinks it's 2021 and not 2023\n",
        "\n",
        "\n",
        "'''"
      ]
    }
  ],
  "metadata": {
    "colab": {
      "collapsed_sections": [
        "woAJT52tAe0-",
        "ZI0ZEn-WVR4_",
        "maMKqz-BnbCT",
        "6cdbmGmsScOa",
        "gvXONlYmt9Mj"
      ],
      "provenance": []
    },
    "kernelspec": {
      "display_name": "Python 3",
      "name": "python3"
    },
    "language_info": {
      "name": "python"
    }
  },
  "nbformat": 4,
  "nbformat_minor": 0
}
